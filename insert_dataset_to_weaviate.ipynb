{
  "cells": [
    {
      "cell_type": "markdown",
      "metadata": {
        "id": "view-in-github",
        "colab_type": "text"
      },
      "source": [
        "<a href=\"https://colab.research.google.com/github/allyan/NL2SQL/blob/main/insert_dataset_to_weaviate.ipynb\" target=\"_parent\"><img src=\"https://colab.research.google.com/assets/colab-badge.svg\" alt=\"Open In Colab\"/></a>"
      ]
    },
    {
      "cell_type": "code",
      "execution_count": 16,
      "metadata": {
        "id": "PFWow-Qy2oTl",
        "colab": {
          "base_uri": "https://localhost:8080/"
        },
        "outputId": "ae6e6420-3520-4e87-920b-a691ab164383"
      },
      "outputs": [
        {
          "output_type": "stream",
          "name": "stdout",
          "text": [
            "Looking in indexes: https://pypi.org/simple, https://us-python.pkg.dev/colab-wheels/public/simple/\n",
            "Requirement already satisfied: transformers in /usr/local/lib/python3.8/dist-packages (4.26.1)\n",
            "Requirement already satisfied: tokenizers!=0.11.3,<0.14,>=0.11.1 in /usr/local/lib/python3.8/dist-packages (from transformers) (0.13.2)\n",
            "Requirement already satisfied: huggingface-hub<1.0,>=0.11.0 in /usr/local/lib/python3.8/dist-packages (from transformers) (0.12.1)\n",
            "Requirement already satisfied: packaging>=20.0 in /usr/local/lib/python3.8/dist-packages (from transformers) (23.0)\n",
            "Requirement already satisfied: pyyaml>=5.1 in /usr/local/lib/python3.8/dist-packages (from transformers) (6.0)\n",
            "Requirement already satisfied: requests in /usr/local/lib/python3.8/dist-packages (from transformers) (2.25.1)\n",
            "Requirement already satisfied: numpy>=1.17 in /usr/local/lib/python3.8/dist-packages (from transformers) (1.22.4)\n",
            "Requirement already satisfied: regex!=2019.12.17 in /usr/local/lib/python3.8/dist-packages (from transformers) (2022.6.2)\n",
            "Requirement already satisfied: filelock in /usr/local/lib/python3.8/dist-packages (from transformers) (3.9.0)\n",
            "Requirement already satisfied: tqdm>=4.27 in /usr/local/lib/python3.8/dist-packages (from transformers) (4.64.1)\n",
            "Requirement already satisfied: typing-extensions>=3.7.4.3 in /usr/local/lib/python3.8/dist-packages (from huggingface-hub<1.0,>=0.11.0->transformers) (4.5.0)\n",
            "Requirement already satisfied: urllib3<1.27,>=1.21.1 in /usr/local/lib/python3.8/dist-packages (from requests->transformers) (1.26.14)\n",
            "Requirement already satisfied: idna<3,>=2.5 in /usr/local/lib/python3.8/dist-packages (from requests->transformers) (2.10)\n",
            "Requirement already satisfied: certifi>=2017.4.17 in /usr/local/lib/python3.8/dist-packages (from requests->transformers) (2022.12.7)\n",
            "Requirement already satisfied: chardet<5,>=3.0.2 in /usr/local/lib/python3.8/dist-packages (from requests->transformers) (4.0.0)\n",
            "Looking in indexes: https://pypi.org/simple, https://us-python.pkg.dev/colab-wheels/public/simple/\n",
            "Requirement already satisfied: nltk in /usr/local/lib/python3.8/dist-packages (3.7)\n",
            "Requirement already satisfied: click in /usr/local/lib/python3.8/dist-packages (from nltk) (8.1.3)\n",
            "Requirement already satisfied: regex>=2021.8.3 in /usr/local/lib/python3.8/dist-packages (from nltk) (2022.6.2)\n",
            "Requirement already satisfied: tqdm in /usr/local/lib/python3.8/dist-packages (from nltk) (4.64.1)\n",
            "Requirement already satisfied: joblib in /usr/local/lib/python3.8/dist-packages (from nltk) (1.2.0)\n",
            "Looking in indexes: https://pypi.org/simple, https://us-python.pkg.dev/colab-wheels/public/simple/\n",
            "Requirement already satisfied: torch in /usr/local/lib/python3.8/dist-packages (1.13.1+cu116)\n",
            "Requirement already satisfied: typing-extensions in /usr/local/lib/python3.8/dist-packages (from torch) (4.5.0)\n",
            "Looking in indexes: https://pypi.org/simple, https://us-python.pkg.dev/colab-wheels/public/simple/\n",
            "Requirement already satisfied: weaviate-client==3.2.2 in /usr/local/lib/python3.8/dist-packages (3.2.2)\n",
            "Requirement already satisfied: tqdm<5.0.0,>=4.59.0 in /usr/local/lib/python3.8/dist-packages (from weaviate-client==3.2.2) (4.64.1)\n",
            "Requirement already satisfied: requests<2.27.0,>=2.23.0 in /usr/local/lib/python3.8/dist-packages (from weaviate-client==3.2.2) (2.25.1)\n",
            "Requirement already satisfied: validators<0.19.0,>=0.18.2 in /usr/local/lib/python3.8/dist-packages (from weaviate-client==3.2.2) (0.18.2)\n",
            "Requirement already satisfied: chardet<5,>=3.0.2 in /usr/local/lib/python3.8/dist-packages (from requests<2.27.0,>=2.23.0->weaviate-client==3.2.2) (4.0.0)\n",
            "Requirement already satisfied: urllib3<1.27,>=1.21.1 in /usr/local/lib/python3.8/dist-packages (from requests<2.27.0,>=2.23.0->weaviate-client==3.2.2) (1.26.14)\n",
            "Requirement already satisfied: certifi>=2017.4.17 in /usr/local/lib/python3.8/dist-packages (from requests<2.27.0,>=2.23.0->weaviate-client==3.2.2) (2022.12.7)\n",
            "Requirement already satisfied: idna<3,>=2.5 in /usr/local/lib/python3.8/dist-packages (from requests<2.27.0,>=2.23.0->weaviate-client==3.2.2) (2.10)\n",
            "Requirement already satisfied: six>=1.4.0 in /usr/local/lib/python3.8/dist-packages (from validators<0.19.0,>=0.18.2->weaviate-client==3.2.2) (1.15.0)\n",
            "Requirement already satisfied: decorator>=3.4.0 in /usr/local/lib/python3.8/dist-packages (from validators<0.19.0,>=0.18.2->weaviate-client==3.2.2) (4.4.2)\n"
          ]
        }
      ],
      "source": [
        "!pip3 install transformers\n",
        "!pip3 install nltk\n",
        "!pip3 install torch\n",
        "!pip3 install weaviate-client==3.2.2"
      ]
    },
    {
      "cell_type": "markdown",
      "metadata": {
        "id": "S0NnIU2E2oTm"
      },
      "source": [
        "## Import the BERT transformer model and pytorch\n",
        "\n",
        "We are using the `bert-base-uncased` model in this example, but any model will work. Feel free to adjust accordingly.\n",
        "\n",
        "## Initialize Weaviate Client\n",
        "This assumes you have Weaviate running locally on `:8080`. Adjust URL accordingly. You could also enter the WCS URL here, for example, if you are running a WCS cloud instance instead of running Weaviate locally."
      ]
    },
    {
      "cell_type": "code",
      "execution_count": 17,
      "metadata": {
        "id": "dsr92e332oTn",
        "colab": {
          "base_uri": "https://localhost:8080/"
        },
        "outputId": "a26ee564-194b-4ac8-a502-0332125c17af"
      },
      "outputs": [
        {
          "output_type": "stream",
          "name": "stderr",
          "text": [
            "[nltk_data] Downloading package punkt to /root/nltk_data...\n",
            "[nltk_data]   Package punkt is already up-to-date!\n"
          ]
        },
        {
          "output_type": "execute_result",
          "data": {
            "text/plain": [
              "True"
            ]
          },
          "metadata": {},
          "execution_count": 17
        }
      ],
      "source": [
        "import torch\n",
        "from transformers import AutoModel, AutoTokenizer\n",
        "from nltk.tokenize import sent_tokenize\n",
        "import weaviate\n",
        "\n",
        "torch.set_grad_enabled(False)\n",
        "\n",
        "# udpated to use different model if desired\n",
        "MODEL_NAME = \"sentence-transformers/all-mpnet-base-v2\"\n",
        "model = AutoModel.from_pretrained(MODEL_NAME)\n",
        "# model.to('cuda') # remove if working without GPUs\n",
        "tokenizer = AutoTokenizer.from_pretrained(MODEL_NAME)\n",
        "\n",
        "# initialize nltk (for tokenizing sentences)\n",
        "import nltk\n",
        "nltk.download('punkt')\n",
        "\n",
        "# initialize weaviate client for importing and searching\n",
        "# client = weaviate.Client(\"http://64.71.146.93:8080\")\n"
      ]
    },
    {
      "cell_type": "code",
      "source": [
        "client = weaviate.Client(\"http://184.72.98.169:8080\")\n",
        "\n",
        "SCHEMA_NAME = \"Salesforce\""
      ],
      "metadata": {
        "id": "nztgm3yE0-Jf"
      },
      "execution_count": 18,
      "outputs": []
    },
    {
      "cell_type": "markdown",
      "metadata": {
        "id": "pKdQOPLV2oTp"
      },
      "source": [
        "## Load dataset from disk\n",
        "Create some helper functions to create the dataset (20-newsgroup text posts) from disk. These methods are specific to the structure of your dataset, adjust accordingly."
      ]
    },
    {
      "cell_type": "code",
      "execution_count": 19,
      "metadata": {
        "id": "FBCEuHrR2oTp",
        "colab": {
          "base_uri": "https://localhost:8080/"
        },
        "outputId": "e2ccff4f-12e9-4417-ad72-b48a70098b3a"
      },
      "outputs": [
        {
          "output_type": "stream",
          "name": "stdout",
          "text": [
            "1104\n"
          ]
        }
      ],
      "source": [
        "import os\n",
        "import random\n",
        "\n",
        "questions = []\n",
        "sqls = []\n",
        "\n",
        "def read_dataset1():\n",
        "    file_data = open(\"sample_data/salesforce_new_dataset.txt\", 'r', encoding=\"utf8\")\n",
        "    for line in file_data:\n",
        "        if line.split(\" : \")[0] not in questions and line.split(\" : \")[1] not in sqls:\n",
        "            # print(line)\n",
        "        # if line.split(\" : \")[1] not in sqls:\n",
        "            questions.append(line.split(\" : \")[0])\n",
        "            sqls.append(line.split(\" : \")[1])\n",
        "\n",
        "def read_dataset2():\n",
        "    file_data = open(\"sample_data/custom_fields_dataset.txt\", 'r', encoding=\"utf8\")\n",
        "    for line in file_data:\n",
        "        if line.split(\" : \")[0] not in questions and line.split(\" : \")[1] not in sqls:\n",
        "        # if line.split(\" : \")[1] not in sqls:\n",
        "            questions.append(line.split(\" : \")[0])\n",
        "            sqls.append(line.split(\" : \")[1])\n",
        "\n",
        "read_dataset1()\n",
        "# read_dataset2()\n",
        "print(len(questions))\n",
        "       \n"
      ]
    },
    {
      "cell_type": "markdown",
      "metadata": {
        "id": "adT5ZpgI2oTq"
      },
      "source": [
        "## Vectorize Dataset using BERT\n",
        "\n",
        "The following is a helper function to vectorize all posts (using our BERT transformer) which are entered as an array. The return array contains all the vectors in the same order. BERT is optimized to run on GPUs, if you're using CPUs this might take a while. "
      ]
    },
    {
      "cell_type": "code",
      "execution_count": 20,
      "metadata": {
        "id": "x3juK5Md2oTq"
      },
      "outputs": [],
      "source": [
        "import time\n",
        "\n",
        "def text2vec(text):\n",
        "    tokens_pt = tokenizer(text, padding=True, truncation=True, max_length=500, add_special_tokens = True, return_tensors=\"pt\")\n",
        "    outputs = model(**tokens_pt)\n",
        "    # tokens_pt.to('cuda') # remove if working without GPUs\n",
        "    return outputs[0].mean(0).mean(0).detach()\n",
        "\n",
        "def vectorize_questions(posts=[]):\n",
        "    post_vectors=[]\n",
        "    before=time.time()\n",
        "    for i, post in enumerate(posts):\n",
        "        vec=text2vec(sent_tokenize(post))\n",
        "        post_vectors += [vec]\n",
        "        if i % 500 == 0 and i != 0:\n",
        "            print(\"So far {} objects vectorized in {}s\".format(i, time.time()-before))\n",
        "    after=time.time()\n",
        "    \n",
        "    print(\"Vectorized {} items in {}s\".format(len(posts), after-before))\n",
        "    \n",
        "    return post_vectors"
      ]
    },
    {
      "cell_type": "markdown",
      "metadata": {
        "id": "aRePPJ342oTr"
      },
      "source": [
        "### Run everything we have so far\n",
        "\n",
        "It is now time to run the functions we defined before. Let's load 50 random posts from disk, then vectorize them using BERT."
      ]
    },
    {
      "cell_type": "markdown",
      "metadata": {
        "id": "xZ_VEHpQ2oTr"
      },
      "source": [
        "## Initialize Weaviate\n",
        "\n",
        "Now that we have vectors we can import both the posts and the vectors into Weaviate, so we can then search through them.\n",
        "\n",
        "### Init a simple schema\n",
        "Our schema is very simple, we just have one object class, the \"Post\". A post class has just a single property, which we call \"content\" and is of type \"text\".\n",
        "\n",
        "Each class in schema creates one index, so by running the below we tell weaviate to create one brand new vector index waiting for us to import data."
      ]
    },
    {
      "cell_type": "code",
      "execution_count": 21,
      "metadata": {
        "id": "MUCL0-hi2oTr",
        "colab": {
          "base_uri": "https://localhost:8080/"
        },
        "outputId": "83d624da-14b8-4f31-acdd-e68bc4eb8002"
      },
      "outputs": [
        {
          "output_type": "stream",
          "name": "stdout",
          "text": [
            "{\n",
            "    \"classes\": [\n",
            "        {\n",
            "            \"class\": \"Asana\",\n",
            "            \"description\": \"SQL to Text mapping\",\n",
            "            \"invertedIndexConfig\": {\n",
            "                \"bm25\": {\n",
            "                    \"b\": 0.75,\n",
            "                    \"k1\": 1.2\n",
            "                },\n",
            "                \"cleanupIntervalSeconds\": 60,\n",
            "                \"stopwords\": {\n",
            "                    \"additions\": null,\n",
            "                    \"preset\": \"en\",\n",
            "                    \"removals\": null\n",
            "                }\n",
            "            },\n",
            "            \"properties\": [\n",
            "                {\n",
            "                    \"dataType\": [\n",
            "                        \"string\"\n",
            "                    ],\n",
            "                    \"description\": \"question\",\n",
            "                    \"name\": \"question\",\n",
            "                    \"tokenization\": \"word\"\n",
            "                },\n",
            "                {\n",
            "                    \"dataType\": [\n",
            "                        \"string\"\n",
            "                    ],\n",
            "                    \"description\": \"sql\",\n",
            "                    \"name\": \"sql\",\n",
            "                    \"tokenization\": \"word\"\n",
            "                }\n",
            "            ],\n",
            "            \"replicationConfig\": {\n",
            "                \"factor\": 1\n",
            "            },\n",
            "            \"shardingConfig\": {\n",
            "                \"virtualPerPhysical\": 128,\n",
            "                \"desiredCount\": 1,\n",
            "                \"actualCount\": 1,\n",
            "                \"desiredVirtualCount\": 128,\n",
            "                \"actualVirtualCount\": 128,\n",
            "                \"key\": \"_id\",\n",
            "                \"strategy\": \"hash\",\n",
            "                \"function\": \"murmur3\"\n",
            "            },\n",
            "            \"vectorIndexConfig\": {\n",
            "                \"skip\": false,\n",
            "                \"cleanupIntervalSeconds\": 300,\n",
            "                \"maxConnections\": 64,\n",
            "                \"efConstruction\": 128,\n",
            "                \"ef\": -1,\n",
            "                \"dynamicEfMin\": 100,\n",
            "                \"dynamicEfMax\": 500,\n",
            "                \"dynamicEfFactor\": 8,\n",
            "                \"vectorCacheMaxObjects\": 1000000000000,\n",
            "                \"flatSearchCutoff\": 40000,\n",
            "                \"distance\": \"cosine\"\n",
            "            },\n",
            "            \"vectorIndexType\": \"hnsw\",\n",
            "            \"vectorizer\": \"none\"\n",
            "        },\n",
            "        {\n",
            "            \"class\": \"Salesforce\",\n",
            "            \"description\": \"SQL to Text mapping\",\n",
            "            \"invertedIndexConfig\": {\n",
            "                \"bm25\": {\n",
            "                    \"b\": 0.75,\n",
            "                    \"k1\": 1.2\n",
            "                },\n",
            "                \"cleanupIntervalSeconds\": 60,\n",
            "                \"stopwords\": {\n",
            "                    \"additions\": null,\n",
            "                    \"preset\": \"en\",\n",
            "                    \"removals\": null\n",
            "                }\n",
            "            },\n",
            "            \"properties\": [\n",
            "                {\n",
            "                    \"dataType\": [\n",
            "                        \"string\"\n",
            "                    ],\n",
            "                    \"description\": \"question\",\n",
            "                    \"name\": \"question\",\n",
            "                    \"tokenization\": \"word\"\n",
            "                },\n",
            "                {\n",
            "                    \"dataType\": [\n",
            "                        \"string\"\n",
            "                    ],\n",
            "                    \"description\": \"sql\",\n",
            "                    \"name\": \"sql\",\n",
            "                    \"tokenization\": \"word\"\n",
            "                }\n",
            "            ],\n",
            "            \"replicationConfig\": {\n",
            "                \"factor\": 1\n",
            "            },\n",
            "            \"shardingConfig\": {\n",
            "                \"virtualPerPhysical\": 128,\n",
            "                \"desiredCount\": 1,\n",
            "                \"actualCount\": 1,\n",
            "                \"desiredVirtualCount\": 128,\n",
            "                \"actualVirtualCount\": 128,\n",
            "                \"key\": \"_id\",\n",
            "                \"strategy\": \"hash\",\n",
            "                \"function\": \"murmur3\"\n",
            "            },\n",
            "            \"vectorIndexConfig\": {\n",
            "                \"skip\": false,\n",
            "                \"cleanupIntervalSeconds\": 300,\n",
            "                \"maxConnections\": 64,\n",
            "                \"efConstruction\": 128,\n",
            "                \"ef\": -1,\n",
            "                \"dynamicEfMin\": 100,\n",
            "                \"dynamicEfMax\": 500,\n",
            "                \"dynamicEfFactor\": 8,\n",
            "                \"vectorCacheMaxObjects\": 1000000000000,\n",
            "                \"flatSearchCutoff\": 40000,\n",
            "                \"distance\": \"cosine\"\n",
            "            },\n",
            "            \"vectorIndexType\": \"hnsw\",\n",
            "            \"vectorizer\": \"none\"\n",
            "        }\n",
            "    ]\n",
            "}\n"
          ]
        }
      ],
      "source": [
        "import json\n",
        "schema = client.schema.get()\n",
        "print(json.dumps(schema, indent=4))\n",
        "class_obj = {\n",
        "\"class\": SCHEMA_NAME, # <= Change to your class name - it will be your collection\n",
        "\"description\": \"SQL to Text mapping\",\n",
        "\"vectorizer\": \"none\",\n",
        "\"properties\": [\n",
        "    {\n",
        "        \"dataType\": [\n",
        "            \"string\"\n",
        "        ],\n",
        "        \"description\": \"question\",\n",
        "        \"name\": \"question\"\n",
        "    },\n",
        "    {\n",
        "        \"dataType\": [\n",
        "            \"string\"\n",
        "        ],\n",
        "        \"description\": \"sql\",\n",
        "        \"name\": \"sql\"\n",
        "    }\n",
        "]\n",
        "}\n",
        "client.schema.delete_class(SCHEMA_NAME)\n",
        "client.schema.create_class(class_obj)"
      ]
    },
    {
      "cell_type": "code",
      "execution_count": 22,
      "metadata": {
        "id": "dQKkwQ312oTr"
      },
      "outputs": [],
      "source": [
        "\n",
        "def import_questions_with_vectors(questions, sqls, vectors, client):\n",
        "    if len(questions) != len(vectors):\n",
        "        raise Exception(\"len of posts ({}) and vectors ({}) does not match\".format(len(questions), len(vectors)))\n",
        "        \n",
        "    for i, question in enumerate(questions):\n",
        "        try:\n",
        "           client.data_object.create(\n",
        "                data_object={\"question\": questions[i], \"sql\": sqls[i]},\n",
        "                class_name=SCHEMA_NAME,\n",
        "                vector=vectors[i]\n",
        "            )\n",
        "        except Exception as e:\n",
        "            print(e)"
      ]
    },
    {
      "cell_type": "code",
      "execution_count": 23,
      "metadata": {
        "id": "9ihzppoC2oTs"
      },
      "outputs": [],
      "source": [
        "def search(query=\"\", limit=10):\n",
        "    before = time.time()\n",
        "    vec = text2vec(query)\n",
        "    vec_took = time.time() - before\n",
        "\n",
        "    before = time.time()\n",
        "    near_vec = {\"vector\": vec}\n",
        "    res = client \\\n",
        "        .query.get(SCHEMA_NAME, [\"sql\", \"_additional {certainty}\"]) \\\n",
        "        .with_near_vector(near_vec) \\\n",
        "        .with_additional(\"distance\") \\\n",
        "        .with_limit(limit) \\\n",
        "        .do()\n",
        "    search_took = time.time() - before\n",
        "\n",
        "    # print(\"\\nQuery \\\"{}\\\" with {} results took {:.3f}s ({:.3f}s to vectorize and {:.3f}s to search)\" \\\n",
        "          # .format(query, limit, vec_took+search_took, vec_took, search_took))\n",
        "    # print(res)\n",
        "    for post in res[\"data\"][\"Get\"][SCHEMA_NAME]:\n",
        "        if post[\"_additional\"][\"distance\"] < 0.8:\n",
        "          print(post[\"sql\"])\n",
        "        # print('---')"
      ]
    },
    {
      "cell_type": "code",
      "source": [
        "vectors = vectorize_questions(questions)"
      ],
      "metadata": {
        "colab": {
          "base_uri": "https://localhost:8080/"
        },
        "id": "5tpYMnOhUQgo",
        "outputId": "cfd415c4-ea24-47db-b7d2-232e30ec4333"
      },
      "execution_count": null,
      "outputs": [
        {
          "output_type": "stream",
          "name": "stdout",
          "text": [
            "So far 500 objects vectorized in 48.19672894477844s\n"
          ]
        }
      ]
    },
    {
      "cell_type": "code",
      "execution_count": null,
      "metadata": {
        "id": "dpCE9CMw2oTs"
      },
      "outputs": [],
      "source": [
        "import_questions_with_vectors(questions, sqls, vectors, client)"
      ]
    },
    {
      "cell_type": "code",
      "execution_count": null,
      "metadata": {
        "id": "eIvqyIck2oTs"
      },
      "outputs": [],
      "source": [
        "search(\"show me active accounts ?\", 10)\n"
      ]
    },
    {
      "cell_type": "code",
      "execution_count": null,
      "metadata": {
        "id": "Vca8kWIm2oTt"
      },
      "outputs": [],
      "source": [
        "#\n"
      ]
    }
  ],
  "metadata": {
    "kernelspec": {
      "display_name": "Python 3",
      "language": "python",
      "name": "python3"
    },
    "language_info": {
      "codemirror_mode": {
        "name": "ipython",
        "version": 3
      },
      "file_extension": ".py",
      "mimetype": "text/x-python",
      "name": "python",
      "nbconvert_exporter": "python",
      "pygments_lexer": "ipython3",
      "version": "3.7.10"
    },
    "colab": {
      "provenance": [],
      "include_colab_link": true
    },
    "accelerator": "GPU",
    "gpuClass": "standard"
  },
  "nbformat": 4,
  "nbformat_minor": 0
}